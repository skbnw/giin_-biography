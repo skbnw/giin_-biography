{
 "cells": [
  {
   "cell_type": "code",
   "execution_count": 12,
   "id": "e22a5b10",
   "metadata": {},
   "outputs": [
    {
     "ename": "SyntaxError",
     "evalue": "invalid syntax (244523147.py, line 1)",
     "output_type": "error",
     "traceback": [
      "\u001b[1;36m  Cell \u001b[1;32mIn[12], line 1\u001b[1;36m\u001b[0m\n\u001b[1;33m    単独選挙回のみを取得import requests\u001b[0m\n\u001b[1;37m                     ^\u001b[0m\n\u001b[1;31mSyntaxError\u001b[0m\u001b[1;31m:\u001b[0m invalid syntax\n"
     ]
    }
   ],
   "source": [
    "# 単独選挙回のみを取得\n",
    "import requests\n",
    "from bs4 import BeautifulSoup\n",
    "import chardet\n",
    "import csv\n",
    "\n",
    "# 取得するURL\n",
    "url = \"https://kokkai.sugawarataku.net/giin/cl026.html\"\n",
    "response = requests.get(url, verify=False)  # SSL証明書の検証を無効化\n",
    "\n",
    "# chardetでエンコーディングを検出\n",
    "encoding = chardet.detect(response.content)['encoding']\n",
    "print(f\"検出されたエンコーディング: {encoding}\")\n",
    "\n",
    "# 検出されたエンコーディングでデコード\n",
    "response.encoding = encoding\n",
    "\n",
    "# BeautifulSoupでHTMLを解析\n",
    "soup = BeautifulSoup(response.text, 'html.parser')\n",
    "\n",
    "# 議員データを格納するリスト\n",
    "giin_data = []\n",
    "\n",
    "# URLからcl番号（例：cl026）を取得し、これをyearとして使用\n",
    "year = url.split('/')[-1].replace('.html', '')\n",
    "\n",
    "# 議員データを探す（クラス名などはHTML構造に応じて調整）\n",
    "giin_list = soup.find_all(\"div\", class_=\"zt11\")\n",
    "\n",
    "for giin in giin_list:\n",
    "    kana = giin.find(\"span\", class_=\"zt4\").get_text().strip()\n",
    "    kanji = giin.find(\"span\", class_=\"zt5\").get_text().strip()\n",
    "    party = giin.find(\"div\", class_=\"cc2\").get_text().strip()\n",
    "    election_area = giin.find(\"div\", class_=\"cc4\").get_text().strip()\n",
    "    \n",
    "    # giin_idは<a>タグのhref属性から取得し、.htmlを削除\n",
    "    giin_id_tag = giin.find(\"span\", class_=\"zt5\").find(\"a\")\n",
    "    giin_id = giin_id_tag['href'].replace('.html', '') if giin_id_tag else 'N/A'\n",
    "    \n",
    "    # 1人分のデータをリストに追加\n",
    "    giin_data.append([year, giin_id, kanji, kana, party, election_area])\n",
    "\n",
    "# CSVファイルに保存（utf-8 BOMエンコーディング）\n",
    "csv_filename = 'Sangiin_data_cl026.csv'\n",
    "with open(csv_filename, 'w', newline='', encoding='utf-8-sig') as csvfile:\n",
    "    writer = csv.writer(csvfile)\n",
    "    \n",
    "    # ヘッダー行\n",
    "    writer.writerow(['year', 'giin_id', 'kanji', 'kana', 'party', 'election_area'])\n",
    "    \n",
    "    # 議員データの書き込み\n",
    "    writer.writerows(giin_data)\n",
    "\n",
    "print(f\"データが {csv_filename} に保存されました。\")\n"
   ]
  },
  {
   "cell_type": "code",
   "execution_count": 16,
   "id": "b6f02dc5",
   "metadata": {},
   "outputs": [
    {
     "name": "stderr",
     "output_type": "stream",
     "text": [
      "C:\\Users\\yomi\\anaconda3\\Lib\\site-packages\\urllib3\\connectionpool.py:1056: InsecureRequestWarning: Unverified HTTPS request is being made to host 'kokkai.sugawarataku.net'. Adding certificate verification is strongly advised. See: https://urllib3.readthedocs.io/en/1.26.x/advanced-usage.html#ssl-warnings\n",
      "  warnings.warn(\n"
     ]
    },
    {
     "name": "stdout",
     "output_type": "stream",
     "text": [
      "https://kokkai.sugawarataku.net/giin/cl001.html の検出されたエンコーディング: SHIFT_JIS\n",
      "Sangiin_data_cl001.csv にデータが保存されました。\n"
     ]
    },
    {
     "name": "stderr",
     "output_type": "stream",
     "text": [
      "C:\\Users\\yomi\\anaconda3\\Lib\\site-packages\\urllib3\\connectionpool.py:1056: InsecureRequestWarning: Unverified HTTPS request is being made to host 'kokkai.sugawarataku.net'. Adding certificate verification is strongly advised. See: https://urllib3.readthedocs.io/en/1.26.x/advanced-usage.html#ssl-warnings\n",
      "  warnings.warn(\n"
     ]
    },
    {
     "name": "stdout",
     "output_type": "stream",
     "text": [
      "https://kokkai.sugawarataku.net/giin/cl002.html の検出されたエンコーディング: SHIFT_JIS\n",
      "Sangiin_data_cl002.csv にデータが保存されました。\n"
     ]
    },
    {
     "name": "stderr",
     "output_type": "stream",
     "text": [
      "C:\\Users\\yomi\\anaconda3\\Lib\\site-packages\\urllib3\\connectionpool.py:1056: InsecureRequestWarning: Unverified HTTPS request is being made to host 'kokkai.sugawarataku.net'. Adding certificate verification is strongly advised. See: https://urllib3.readthedocs.io/en/1.26.x/advanced-usage.html#ssl-warnings\n",
      "  warnings.warn(\n"
     ]
    },
    {
     "name": "stdout",
     "output_type": "stream",
     "text": [
      "https://kokkai.sugawarataku.net/giin/cl003.html の検出されたエンコーディング: SHIFT_JIS\n",
      "Sangiin_data_cl003.csv にデータが保存されました。\n"
     ]
    },
    {
     "name": "stderr",
     "output_type": "stream",
     "text": [
      "C:\\Users\\yomi\\anaconda3\\Lib\\site-packages\\urllib3\\connectionpool.py:1056: InsecureRequestWarning: Unverified HTTPS request is being made to host 'kokkai.sugawarataku.net'. Adding certificate verification is strongly advised. See: https://urllib3.readthedocs.io/en/1.26.x/advanced-usage.html#ssl-warnings\n",
      "  warnings.warn(\n"
     ]
    },
    {
     "name": "stdout",
     "output_type": "stream",
     "text": [
      "https://kokkai.sugawarataku.net/giin/cl004.html の検出されたエンコーディング: SHIFT_JIS\n",
      "Sangiin_data_cl004.csv にデータが保存されました。\n"
     ]
    },
    {
     "name": "stderr",
     "output_type": "stream",
     "text": [
      "C:\\Users\\yomi\\anaconda3\\Lib\\site-packages\\urllib3\\connectionpool.py:1056: InsecureRequestWarning: Unverified HTTPS request is being made to host 'kokkai.sugawarataku.net'. Adding certificate verification is strongly advised. See: https://urllib3.readthedocs.io/en/1.26.x/advanced-usage.html#ssl-warnings\n",
      "  warnings.warn(\n"
     ]
    },
    {
     "name": "stdout",
     "output_type": "stream",
     "text": [
      "https://kokkai.sugawarataku.net/giin/cl005.html の検出されたエンコーディング: SHIFT_JIS\n",
      "Sangiin_data_cl005.csv にデータが保存されました。\n"
     ]
    },
    {
     "name": "stderr",
     "output_type": "stream",
     "text": [
      "C:\\Users\\yomi\\anaconda3\\Lib\\site-packages\\urllib3\\connectionpool.py:1056: InsecureRequestWarning: Unverified HTTPS request is being made to host 'kokkai.sugawarataku.net'. Adding certificate verification is strongly advised. See: https://urllib3.readthedocs.io/en/1.26.x/advanced-usage.html#ssl-warnings\n",
      "  warnings.warn(\n"
     ]
    },
    {
     "name": "stdout",
     "output_type": "stream",
     "text": [
      "https://kokkai.sugawarataku.net/giin/cl006.html の検出されたエンコーディング: SHIFT_JIS\n",
      "Sangiin_data_cl006.csv にデータが保存されました。\n"
     ]
    },
    {
     "name": "stderr",
     "output_type": "stream",
     "text": [
      "C:\\Users\\yomi\\anaconda3\\Lib\\site-packages\\urllib3\\connectionpool.py:1056: InsecureRequestWarning: Unverified HTTPS request is being made to host 'kokkai.sugawarataku.net'. Adding certificate verification is strongly advised. See: https://urllib3.readthedocs.io/en/1.26.x/advanced-usage.html#ssl-warnings\n",
      "  warnings.warn(\n"
     ]
    },
    {
     "name": "stdout",
     "output_type": "stream",
     "text": [
      "https://kokkai.sugawarataku.net/giin/cl007.html の検出されたエンコーディング: SHIFT_JIS\n",
      "Sangiin_data_cl007.csv にデータが保存されました。\n"
     ]
    },
    {
     "name": "stderr",
     "output_type": "stream",
     "text": [
      "C:\\Users\\yomi\\anaconda3\\Lib\\site-packages\\urllib3\\connectionpool.py:1056: InsecureRequestWarning: Unverified HTTPS request is being made to host 'kokkai.sugawarataku.net'. Adding certificate verification is strongly advised. See: https://urllib3.readthedocs.io/en/1.26.x/advanced-usage.html#ssl-warnings\n",
      "  warnings.warn(\n"
     ]
    },
    {
     "name": "stdout",
     "output_type": "stream",
     "text": [
      "https://kokkai.sugawarataku.net/giin/cl008.html の検出されたエンコーディング: SHIFT_JIS\n",
      "Sangiin_data_cl008.csv にデータが保存されました。\n"
     ]
    },
    {
     "name": "stderr",
     "output_type": "stream",
     "text": [
      "C:\\Users\\yomi\\anaconda3\\Lib\\site-packages\\urllib3\\connectionpool.py:1056: InsecureRequestWarning: Unverified HTTPS request is being made to host 'kokkai.sugawarataku.net'. Adding certificate verification is strongly advised. See: https://urllib3.readthedocs.io/en/1.26.x/advanced-usage.html#ssl-warnings\n",
      "  warnings.warn(\n"
     ]
    },
    {
     "name": "stdout",
     "output_type": "stream",
     "text": [
      "https://kokkai.sugawarataku.net/giin/cl009.html の検出されたエンコーディング: SHIFT_JIS\n",
      "Sangiin_data_cl009.csv にデータが保存されました。\n"
     ]
    },
    {
     "name": "stderr",
     "output_type": "stream",
     "text": [
      "C:\\Users\\yomi\\anaconda3\\Lib\\site-packages\\urllib3\\connectionpool.py:1056: InsecureRequestWarning: Unverified HTTPS request is being made to host 'kokkai.sugawarataku.net'. Adding certificate verification is strongly advised. See: https://urllib3.readthedocs.io/en/1.26.x/advanced-usage.html#ssl-warnings\n",
      "  warnings.warn(\n"
     ]
    },
    {
     "name": "stdout",
     "output_type": "stream",
     "text": [
      "https://kokkai.sugawarataku.net/giin/cl010.html の検出されたエンコーディング: SHIFT_JIS\n",
      "Sangiin_data_cl010.csv にデータが保存されました。\n"
     ]
    },
    {
     "name": "stderr",
     "output_type": "stream",
     "text": [
      "C:\\Users\\yomi\\anaconda3\\Lib\\site-packages\\urllib3\\connectionpool.py:1056: InsecureRequestWarning: Unverified HTTPS request is being made to host 'kokkai.sugawarataku.net'. Adding certificate verification is strongly advised. See: https://urllib3.readthedocs.io/en/1.26.x/advanced-usage.html#ssl-warnings\n",
      "  warnings.warn(\n"
     ]
    },
    {
     "name": "stdout",
     "output_type": "stream",
     "text": [
      "https://kokkai.sugawarataku.net/giin/cl011.html の検出されたエンコーディング: SHIFT_JIS\n",
      "Sangiin_data_cl011.csv にデータが保存されました。\n"
     ]
    },
    {
     "name": "stderr",
     "output_type": "stream",
     "text": [
      "C:\\Users\\yomi\\anaconda3\\Lib\\site-packages\\urllib3\\connectionpool.py:1056: InsecureRequestWarning: Unverified HTTPS request is being made to host 'kokkai.sugawarataku.net'. Adding certificate verification is strongly advised. See: https://urllib3.readthedocs.io/en/1.26.x/advanced-usage.html#ssl-warnings\n",
      "  warnings.warn(\n"
     ]
    },
    {
     "name": "stdout",
     "output_type": "stream",
     "text": [
      "https://kokkai.sugawarataku.net/giin/cl012.html の検出されたエンコーディング: SHIFT_JIS\n",
      "Sangiin_data_cl012.csv にデータが保存されました。\n"
     ]
    },
    {
     "name": "stderr",
     "output_type": "stream",
     "text": [
      "C:\\Users\\yomi\\anaconda3\\Lib\\site-packages\\urllib3\\connectionpool.py:1056: InsecureRequestWarning: Unverified HTTPS request is being made to host 'kokkai.sugawarataku.net'. Adding certificate verification is strongly advised. See: https://urllib3.readthedocs.io/en/1.26.x/advanced-usage.html#ssl-warnings\n",
      "  warnings.warn(\n"
     ]
    },
    {
     "name": "stdout",
     "output_type": "stream",
     "text": [
      "https://kokkai.sugawarataku.net/giin/cl013.html の検出されたエンコーディング: SHIFT_JIS\n",
      "Sangiin_data_cl013.csv にデータが保存されました。\n"
     ]
    },
    {
     "name": "stderr",
     "output_type": "stream",
     "text": [
      "C:\\Users\\yomi\\anaconda3\\Lib\\site-packages\\urllib3\\connectionpool.py:1056: InsecureRequestWarning: Unverified HTTPS request is being made to host 'kokkai.sugawarataku.net'. Adding certificate verification is strongly advised. See: https://urllib3.readthedocs.io/en/1.26.x/advanced-usage.html#ssl-warnings\n",
      "  warnings.warn(\n"
     ]
    },
    {
     "name": "stdout",
     "output_type": "stream",
     "text": [
      "https://kokkai.sugawarataku.net/giin/cl014.html の検出されたエンコーディング: SHIFT_JIS\n",
      "Sangiin_data_cl014.csv にデータが保存されました。\n"
     ]
    },
    {
     "name": "stderr",
     "output_type": "stream",
     "text": [
      "C:\\Users\\yomi\\anaconda3\\Lib\\site-packages\\urllib3\\connectionpool.py:1056: InsecureRequestWarning: Unverified HTTPS request is being made to host 'kokkai.sugawarataku.net'. Adding certificate verification is strongly advised. See: https://urllib3.readthedocs.io/en/1.26.x/advanced-usage.html#ssl-warnings\n",
      "  warnings.warn(\n"
     ]
    },
    {
     "name": "stdout",
     "output_type": "stream",
     "text": [
      "https://kokkai.sugawarataku.net/giin/cl015.html の検出されたエンコーディング: SHIFT_JIS\n",
      "Sangiin_data_cl015.csv にデータが保存されました。\n"
     ]
    },
    {
     "name": "stderr",
     "output_type": "stream",
     "text": [
      "C:\\Users\\yomi\\anaconda3\\Lib\\site-packages\\urllib3\\connectionpool.py:1056: InsecureRequestWarning: Unverified HTTPS request is being made to host 'kokkai.sugawarataku.net'. Adding certificate verification is strongly advised. See: https://urllib3.readthedocs.io/en/1.26.x/advanced-usage.html#ssl-warnings\n",
      "  warnings.warn(\n"
     ]
    },
    {
     "name": "stdout",
     "output_type": "stream",
     "text": [
      "https://kokkai.sugawarataku.net/giin/cl016.html の検出されたエンコーディング: SHIFT_JIS\n",
      "Sangiin_data_cl016.csv にデータが保存されました。\n"
     ]
    },
    {
     "name": "stderr",
     "output_type": "stream",
     "text": [
      "C:\\Users\\yomi\\anaconda3\\Lib\\site-packages\\urllib3\\connectionpool.py:1056: InsecureRequestWarning: Unverified HTTPS request is being made to host 'kokkai.sugawarataku.net'. Adding certificate verification is strongly advised. See: https://urllib3.readthedocs.io/en/1.26.x/advanced-usage.html#ssl-warnings\n",
      "  warnings.warn(\n"
     ]
    },
    {
     "name": "stdout",
     "output_type": "stream",
     "text": [
      "https://kokkai.sugawarataku.net/giin/cl017.html の検出されたエンコーディング: SHIFT_JIS\n",
      "Sangiin_data_cl017.csv にデータが保存されました。\n"
     ]
    },
    {
     "name": "stderr",
     "output_type": "stream",
     "text": [
      "C:\\Users\\yomi\\anaconda3\\Lib\\site-packages\\urllib3\\connectionpool.py:1056: InsecureRequestWarning: Unverified HTTPS request is being made to host 'kokkai.sugawarataku.net'. Adding certificate verification is strongly advised. See: https://urllib3.readthedocs.io/en/1.26.x/advanced-usage.html#ssl-warnings\n",
      "  warnings.warn(\n"
     ]
    },
    {
     "name": "stdout",
     "output_type": "stream",
     "text": [
      "https://kokkai.sugawarataku.net/giin/cl018.html の検出されたエンコーディング: SHIFT_JIS\n",
      "Sangiin_data_cl018.csv にデータが保存されました。\n"
     ]
    },
    {
     "name": "stderr",
     "output_type": "stream",
     "text": [
      "C:\\Users\\yomi\\anaconda3\\Lib\\site-packages\\urllib3\\connectionpool.py:1056: InsecureRequestWarning: Unverified HTTPS request is being made to host 'kokkai.sugawarataku.net'. Adding certificate verification is strongly advised. See: https://urllib3.readthedocs.io/en/1.26.x/advanced-usage.html#ssl-warnings\n",
      "  warnings.warn(\n"
     ]
    },
    {
     "name": "stdout",
     "output_type": "stream",
     "text": [
      "https://kokkai.sugawarataku.net/giin/cl019.html の検出されたエンコーディング: SHIFT_JIS\n",
      "Sangiin_data_cl019.csv にデータが保存されました。\n"
     ]
    },
    {
     "name": "stderr",
     "output_type": "stream",
     "text": [
      "C:\\Users\\yomi\\anaconda3\\Lib\\site-packages\\urllib3\\connectionpool.py:1056: InsecureRequestWarning: Unverified HTTPS request is being made to host 'kokkai.sugawarataku.net'. Adding certificate verification is strongly advised. See: https://urllib3.readthedocs.io/en/1.26.x/advanced-usage.html#ssl-warnings\n",
      "  warnings.warn(\n"
     ]
    },
    {
     "name": "stdout",
     "output_type": "stream",
     "text": [
      "https://kokkai.sugawarataku.net/giin/cl020.html の検出されたエンコーディング: SHIFT_JIS\n",
      "Sangiin_data_cl020.csv にデータが保存されました。\n"
     ]
    },
    {
     "name": "stderr",
     "output_type": "stream",
     "text": [
      "C:\\Users\\yomi\\anaconda3\\Lib\\site-packages\\urllib3\\connectionpool.py:1056: InsecureRequestWarning: Unverified HTTPS request is being made to host 'kokkai.sugawarataku.net'. Adding certificate verification is strongly advised. See: https://urllib3.readthedocs.io/en/1.26.x/advanced-usage.html#ssl-warnings\n",
      "  warnings.warn(\n"
     ]
    },
    {
     "name": "stdout",
     "output_type": "stream",
     "text": [
      "https://kokkai.sugawarataku.net/giin/cl021.html の検出されたエンコーディング: SHIFT_JIS\n",
      "Sangiin_data_cl021.csv にデータが保存されました。\n"
     ]
    },
    {
     "name": "stderr",
     "output_type": "stream",
     "text": [
      "C:\\Users\\yomi\\anaconda3\\Lib\\site-packages\\urllib3\\connectionpool.py:1056: InsecureRequestWarning: Unverified HTTPS request is being made to host 'kokkai.sugawarataku.net'. Adding certificate verification is strongly advised. See: https://urllib3.readthedocs.io/en/1.26.x/advanced-usage.html#ssl-warnings\n",
      "  warnings.warn(\n"
     ]
    },
    {
     "name": "stdout",
     "output_type": "stream",
     "text": [
      "https://kokkai.sugawarataku.net/giin/cl022.html の検出されたエンコーディング: SHIFT_JIS\n",
      "Sangiin_data_cl022.csv にデータが保存されました。\n"
     ]
    },
    {
     "name": "stderr",
     "output_type": "stream",
     "text": [
      "C:\\Users\\yomi\\anaconda3\\Lib\\site-packages\\urllib3\\connectionpool.py:1056: InsecureRequestWarning: Unverified HTTPS request is being made to host 'kokkai.sugawarataku.net'. Adding certificate verification is strongly advised. See: https://urllib3.readthedocs.io/en/1.26.x/advanced-usage.html#ssl-warnings\n",
      "  warnings.warn(\n"
     ]
    },
    {
     "name": "stdout",
     "output_type": "stream",
     "text": [
      "https://kokkai.sugawarataku.net/giin/cl023.html の検出されたエンコーディング: SHIFT_JIS\n",
      "Sangiin_data_cl023.csv にデータが保存されました。\n"
     ]
    },
    {
     "name": "stderr",
     "output_type": "stream",
     "text": [
      "C:\\Users\\yomi\\anaconda3\\Lib\\site-packages\\urllib3\\connectionpool.py:1056: InsecureRequestWarning: Unverified HTTPS request is being made to host 'kokkai.sugawarataku.net'. Adding certificate verification is strongly advised. See: https://urllib3.readthedocs.io/en/1.26.x/advanced-usage.html#ssl-warnings\n",
      "  warnings.warn(\n"
     ]
    },
    {
     "name": "stdout",
     "output_type": "stream",
     "text": [
      "https://kokkai.sugawarataku.net/giin/cl024.html の検出されたエンコーディング: SHIFT_JIS\n",
      "Sangiin_data_cl024.csv にデータが保存されました。\n"
     ]
    },
    {
     "name": "stderr",
     "output_type": "stream",
     "text": [
      "C:\\Users\\yomi\\anaconda3\\Lib\\site-packages\\urllib3\\connectionpool.py:1056: InsecureRequestWarning: Unverified HTTPS request is being made to host 'kokkai.sugawarataku.net'. Adding certificate verification is strongly advised. See: https://urllib3.readthedocs.io/en/1.26.x/advanced-usage.html#ssl-warnings\n",
      "  warnings.warn(\n"
     ]
    },
    {
     "name": "stdout",
     "output_type": "stream",
     "text": [
      "https://kokkai.sugawarataku.net/giin/cl025.html の検出されたエンコーディング: SHIFT_JIS\n",
      "Sangiin_data_cl025.csv にデータが保存されました。\n"
     ]
    },
    {
     "name": "stderr",
     "output_type": "stream",
     "text": [
      "C:\\Users\\yomi\\anaconda3\\Lib\\site-packages\\urllib3\\connectionpool.py:1056: InsecureRequestWarning: Unverified HTTPS request is being made to host 'kokkai.sugawarataku.net'. Adding certificate verification is strongly advised. See: https://urllib3.readthedocs.io/en/1.26.x/advanced-usage.html#ssl-warnings\n",
      "  warnings.warn(\n"
     ]
    },
    {
     "name": "stdout",
     "output_type": "stream",
     "text": [
      "https://kokkai.sugawarataku.net/giin/cl026.html の検出されたエンコーディング: SHIFT_JIS\n",
      "Sangiin_data_cl026.csv にデータが保存されました。\n",
      "全データが Sangiin_data_ALL.csv に保存されました。\n"
     ]
    }
   ],
   "source": [
    "import requests\n",
    "from bs4 import BeautifulSoup\n",
    "import csv\n",
    "import time\n",
    "import chardet\n",
    "\n",
    "# ループの範囲設定\n",
    "start = 1\n",
    "end = 26\n",
    "\n",
    "# 全データを格納するリスト\n",
    "all_data = []\n",
    "\n",
    "# ベースURL\n",
    "base_url = \"https://kokkai.sugawarataku.net/giin/\"\n",
    "\n",
    "# URLをループで処理\n",
    "for i in range(start, end + 1):\n",
    "    # URLの作成\n",
    "    url_suffix = f\"cl{i:03d}.html\"  # cl001, cl002, ..., cl026 の形式\n",
    "    url = base_url + url_suffix\n",
    "    \n",
    "    # リクエストを送信\n",
    "    response = requests.get(url, verify=False)\n",
    "\n",
    "    # chardetでエンコーディングを検出\n",
    "    encoding = chardet.detect(response.content)['encoding']\n",
    "    print(f\"{url} の検出されたエンコーディング: {encoding}\")\n",
    "\n",
    "    # 検出されたエンコーディングでデコード\n",
    "    response.encoding = encoding\n",
    "\n",
    "    # BeautifulSoupでHTMLを解析\n",
    "    soup = BeautifulSoup(response.text, 'html.parser')\n",
    "\n",
    "    # 議員データを格納するリスト\n",
    "    giin_data = []\n",
    "\n",
    "    # URLからcl番号を取得し、これをyearとして使用\n",
    "    year = url_suffix.replace('.html', '')\n",
    "\n",
    "    # 議員データを探す\n",
    "    giin_list = soup.find_all(\"div\", class_=\"zt11\")\n",
    "\n",
    "    for giin in giin_list:\n",
    "        kana = giin.find(\"span\", class_=\"zt4\").get_text().strip()\n",
    "        kanji = giin.find(\"span\", class_=\"zt5\").get_text().strip()\n",
    "        party = giin.find(\"div\", class_=\"cc2\").get_text().strip()\n",
    "        election_area = giin.find(\"div\", class_=\"cc4\").get_text().strip()\n",
    "        \n",
    "        # giin_idは<a>タグのhref属性から取得し、.htmlを削除\n",
    "        giin_id_tag = giin.find(\"span\", class_=\"zt5\").find(\"a\")\n",
    "        giin_id = giin_id_tag['href'].replace('.html', '') if giin_id_tag else 'N/A'\n",
    "        \n",
    "        # 1人分のデータをリストに追加\n",
    "        giin_data.append([year, giin_id, kanji, kana, party, election_area])\n",
    "        all_data.append([year, giin_id, kanji, kana, party, election_area])\n",
    "\n",
    "    # 各選挙回ごとにCSVファイルに保存（utf-8 BOMエンコーディング）\n",
    "    csv_filename = f'Sangiin_data_{year}.csv'\n",
    "    with open(csv_filename, 'w', newline='', encoding='utf-8-sig') as csvfile:\n",
    "        writer = csv.writer(csvfile)\n",
    "        writer.writerow(['year', 'giin_id', 'kanji', 'kana', 'party', 'election_area'])\n",
    "        writer.writerows(giin_data)\n",
    "    \n",
    "    print(f\"{csv_filename} にデータが保存されました。\")\n",
    "\n",
    "    # 3秒間のスリープ\n",
    "    time.sleep(3)\n",
    "\n",
    "# 全データを1つのファイルに保存（utf-8 BOMエンコーディング）\n",
    "all_csv_filename = 'Sangiin_data_ALL.csv'\n",
    "with open(all_csv_filename, 'w', newline='', encoding='utf-8-sig') as all_csvfile:\n",
    "    writer = csv.writer(all_csvfile)\n",
    "    writer.writerow(['year', 'giin_id', 'kanji', 'kana', 'party', 'election_area'])\n",
    "    writer.writerows(all_data)\n",
    "\n",
    "print(f\"全データが {all_csv_filename} に保存されました。\")\n"
   ]
  },
  {
   "cell_type": "code",
   "execution_count": null,
   "id": "b1551db2",
   "metadata": {},
   "outputs": [],
   "source": []
  }
 ],
 "metadata": {
  "kernelspec": {
   "display_name": "Python 3 (ipykernel)",
   "language": "python",
   "name": "python3"
  },
  "language_info": {
   "codemirror_mode": {
    "name": "ipython",
    "version": 3
   },
   "file_extension": ".py",
   "mimetype": "text/x-python",
   "name": "python",
   "nbconvert_exporter": "python",
   "pygments_lexer": "ipython3",
   "version": "3.11.5"
  }
 },
 "nbformat": 4,
 "nbformat_minor": 5
}
