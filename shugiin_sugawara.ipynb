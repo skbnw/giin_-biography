{
 "cells": [
  {
   "cell_type": "code",
   "execution_count": null,
   "id": "4e865bc2",
   "metadata": {},
   "outputs": [
    {
     "name": "stderr",
     "output_type": "stream",
     "text": [
      "C:\\Users\\yomi\\anaconda3\\Lib\\site-packages\\urllib3\\connectionpool.py:1056: InsecureRequestWarning: Unverified HTTPS request is being made to host 'kokkai.sugawarataku.net'. Adding certificate verification is strongly advised. See: https://urllib3.readthedocs.io/en/1.26.x/advanced-usage.html#ssl-warnings\n",
      "  warnings.warn(\n"
     ]
    },
    {
     "name": "stdout",
     "output_type": "stream",
     "text": [
      "https://kokkai.sugawarataku.net/giin/rl023.html の検出されたエンコーディング: CP932\n",
      "Shugiin_data_rl023.csv にデータが保存されました。\n"
     ]
    },
    {
     "name": "stderr",
     "output_type": "stream",
     "text": [
      "C:\\Users\\yomi\\anaconda3\\Lib\\site-packages\\urllib3\\connectionpool.py:1056: InsecureRequestWarning: Unverified HTTPS request is being made to host 'kokkai.sugawarataku.net'. Adding certificate verification is strongly advised. See: https://urllib3.readthedocs.io/en/1.26.x/advanced-usage.html#ssl-warnings\n",
      "  warnings.warn(\n"
     ]
    },
    {
     "name": "stdout",
     "output_type": "stream",
     "text": [
      "https://kokkai.sugawarataku.net/giin/rl024.html の検出されたエンコーディング: SHIFT_JIS\n",
      "Shugiin_data_rl024.csv にデータが保存されました。\n"
     ]
    },
    {
     "name": "stderr",
     "output_type": "stream",
     "text": [
      "C:\\Users\\yomi\\anaconda3\\Lib\\site-packages\\urllib3\\connectionpool.py:1056: InsecureRequestWarning: Unverified HTTPS request is being made to host 'kokkai.sugawarataku.net'. Adding certificate verification is strongly advised. See: https://urllib3.readthedocs.io/en/1.26.x/advanced-usage.html#ssl-warnings\n",
      "  warnings.warn(\n"
     ]
    },
    {
     "name": "stdout",
     "output_type": "stream",
     "text": [
      "https://kokkai.sugawarataku.net/giin/rl025.html の検出されたエンコーディング: CP932\n",
      "Shugiin_data_rl025.csv にデータが保存されました。\n"
     ]
    },
    {
     "name": "stderr",
     "output_type": "stream",
     "text": [
      "C:\\Users\\yomi\\anaconda3\\Lib\\site-packages\\urllib3\\connectionpool.py:1056: InsecureRequestWarning: Unverified HTTPS request is being made to host 'kokkai.sugawarataku.net'. Adding certificate verification is strongly advised. See: https://urllib3.readthedocs.io/en/1.26.x/advanced-usage.html#ssl-warnings\n",
      "  warnings.warn(\n"
     ]
    },
    {
     "name": "stdout",
     "output_type": "stream",
     "text": [
      "https://kokkai.sugawarataku.net/giin/rl026.html の検出されたエンコーディング: CP932\n",
      "Shugiin_data_rl026.csv にデータが保存されました。\n"
     ]
    },
    {
     "name": "stderr",
     "output_type": "stream",
     "text": [
      "C:\\Users\\yomi\\anaconda3\\Lib\\site-packages\\urllib3\\connectionpool.py:1056: InsecureRequestWarning: Unverified HTTPS request is being made to host 'kokkai.sugawarataku.net'. Adding certificate verification is strongly advised. See: https://urllib3.readthedocs.io/en/1.26.x/advanced-usage.html#ssl-warnings\n",
      "  warnings.warn(\n"
     ]
    },
    {
     "name": "stdout",
     "output_type": "stream",
     "text": [
      "https://kokkai.sugawarataku.net/giin/rl027.html の検出されたエンコーディング: CP932\n",
      "Shugiin_data_rl027.csv にデータが保存されました。\n"
     ]
    },
    {
     "name": "stderr",
     "output_type": "stream",
     "text": [
      "C:\\Users\\yomi\\anaconda3\\Lib\\site-packages\\urllib3\\connectionpool.py:1056: InsecureRequestWarning: Unverified HTTPS request is being made to host 'kokkai.sugawarataku.net'. Adding certificate verification is strongly advised. See: https://urllib3.readthedocs.io/en/1.26.x/advanced-usage.html#ssl-warnings\n",
      "  warnings.warn(\n"
     ]
    },
    {
     "name": "stdout",
     "output_type": "stream",
     "text": [
      "https://kokkai.sugawarataku.net/giin/rl028.html の検出されたエンコーディング: CP932\n",
      "Shugiin_data_rl028.csv にデータが保存されました。\n"
     ]
    },
    {
     "name": "stderr",
     "output_type": "stream",
     "text": [
      "C:\\Users\\yomi\\anaconda3\\Lib\\site-packages\\urllib3\\connectionpool.py:1056: InsecureRequestWarning: Unverified HTTPS request is being made to host 'kokkai.sugawarataku.net'. Adding certificate verification is strongly advised. See: https://urllib3.readthedocs.io/en/1.26.x/advanced-usage.html#ssl-warnings\n",
      "  warnings.warn(\n"
     ]
    },
    {
     "name": "stdout",
     "output_type": "stream",
     "text": [
      "https://kokkai.sugawarataku.net/giin/rl029.html の検出されたエンコーディング: SHIFT_JIS\n",
      "Shugiin_data_rl029.csv にデータが保存されました。\n"
     ]
    },
    {
     "name": "stderr",
     "output_type": "stream",
     "text": [
      "C:\\Users\\yomi\\anaconda3\\Lib\\site-packages\\urllib3\\connectionpool.py:1056: InsecureRequestWarning: Unverified HTTPS request is being made to host 'kokkai.sugawarataku.net'. Adding certificate verification is strongly advised. See: https://urllib3.readthedocs.io/en/1.26.x/advanced-usage.html#ssl-warnings\n",
      "  warnings.warn(\n"
     ]
    },
    {
     "name": "stdout",
     "output_type": "stream",
     "text": [
      "https://kokkai.sugawarataku.net/giin/rl030.html の検出されたエンコーディング: SHIFT_JIS\n",
      "Shugiin_data_rl030.csv にデータが保存されました。\n"
     ]
    },
    {
     "name": "stderr",
     "output_type": "stream",
     "text": [
      "C:\\Users\\yomi\\anaconda3\\Lib\\site-packages\\urllib3\\connectionpool.py:1056: InsecureRequestWarning: Unverified HTTPS request is being made to host 'kokkai.sugawarataku.net'. Adding certificate verification is strongly advised. See: https://urllib3.readthedocs.io/en/1.26.x/advanced-usage.html#ssl-warnings\n",
      "  warnings.warn(\n"
     ]
    },
    {
     "name": "stdout",
     "output_type": "stream",
     "text": [
      "https://kokkai.sugawarataku.net/giin/rl031.html の検出されたエンコーディング: SHIFT_JIS\n",
      "Shugiin_data_rl031.csv にデータが保存されました。\n"
     ]
    },
    {
     "name": "stderr",
     "output_type": "stream",
     "text": [
      "C:\\Users\\yomi\\anaconda3\\Lib\\site-packages\\urllib3\\connectionpool.py:1056: InsecureRequestWarning: Unverified HTTPS request is being made to host 'kokkai.sugawarataku.net'. Adding certificate verification is strongly advised. See: https://urllib3.readthedocs.io/en/1.26.x/advanced-usage.html#ssl-warnings\n",
      "  warnings.warn(\n"
     ]
    },
    {
     "name": "stdout",
     "output_type": "stream",
     "text": [
      "https://kokkai.sugawarataku.net/giin/rl032.html の検出されたエンコーディング: SHIFT_JIS\n",
      "Shugiin_data_rl032.csv にデータが保存されました。\n"
     ]
    },
    {
     "name": "stderr",
     "output_type": "stream",
     "text": [
      "C:\\Users\\yomi\\anaconda3\\Lib\\site-packages\\urllib3\\connectionpool.py:1056: InsecureRequestWarning: Unverified HTTPS request is being made to host 'kokkai.sugawarataku.net'. Adding certificate verification is strongly advised. See: https://urllib3.readthedocs.io/en/1.26.x/advanced-usage.html#ssl-warnings\n",
      "  warnings.warn(\n"
     ]
    },
    {
     "name": "stdout",
     "output_type": "stream",
     "text": [
      "https://kokkai.sugawarataku.net/giin/rl033.html の検出されたエンコーディング: SHIFT_JIS\n",
      "Shugiin_data_rl033.csv にデータが保存されました。\n"
     ]
    },
    {
     "name": "stderr",
     "output_type": "stream",
     "text": [
      "C:\\Users\\yomi\\anaconda3\\Lib\\site-packages\\urllib3\\connectionpool.py:1056: InsecureRequestWarning: Unverified HTTPS request is being made to host 'kokkai.sugawarataku.net'. Adding certificate verification is strongly advised. See: https://urllib3.readthedocs.io/en/1.26.x/advanced-usage.html#ssl-warnings\n",
      "  warnings.warn(\n"
     ]
    },
    {
     "name": "stdout",
     "output_type": "stream",
     "text": [
      "https://kokkai.sugawarataku.net/giin/rl034.html の検出されたエンコーディング: SHIFT_JIS\n",
      "Shugiin_data_rl034.csv にデータが保存されました。\n"
     ]
    },
    {
     "name": "stderr",
     "output_type": "stream",
     "text": [
      "C:\\Users\\yomi\\anaconda3\\Lib\\site-packages\\urllib3\\connectionpool.py:1056: InsecureRequestWarning: Unverified HTTPS request is being made to host 'kokkai.sugawarataku.net'. Adding certificate verification is strongly advised. See: https://urllib3.readthedocs.io/en/1.26.x/advanced-usage.html#ssl-warnings\n",
      "  warnings.warn(\n"
     ]
    },
    {
     "name": "stdout",
     "output_type": "stream",
     "text": [
      "https://kokkai.sugawarataku.net/giin/rl035.html の検出されたエンコーディング: CP932\n",
      "Shugiin_data_rl035.csv にデータが保存されました。\n"
     ]
    },
    {
     "name": "stderr",
     "output_type": "stream",
     "text": [
      "C:\\Users\\yomi\\anaconda3\\Lib\\site-packages\\urllib3\\connectionpool.py:1056: InsecureRequestWarning: Unverified HTTPS request is being made to host 'kokkai.sugawarataku.net'. Adding certificate verification is strongly advised. See: https://urllib3.readthedocs.io/en/1.26.x/advanced-usage.html#ssl-warnings\n",
      "  warnings.warn(\n"
     ]
    },
    {
     "name": "stdout",
     "output_type": "stream",
     "text": [
      "https://kokkai.sugawarataku.net/giin/rl036.html の検出されたエンコーディング: CP932\n",
      "Shugiin_data_rl036.csv にデータが保存されました。\n"
     ]
    },
    {
     "name": "stderr",
     "output_type": "stream",
     "text": [
      "C:\\Users\\yomi\\anaconda3\\Lib\\site-packages\\urllib3\\connectionpool.py:1056: InsecureRequestWarning: Unverified HTTPS request is being made to host 'kokkai.sugawarataku.net'. Adding certificate verification is strongly advised. See: https://urllib3.readthedocs.io/en/1.26.x/advanced-usage.html#ssl-warnings\n",
      "  warnings.warn(\n"
     ]
    },
    {
     "name": "stdout",
     "output_type": "stream",
     "text": [
      "https://kokkai.sugawarataku.net/giin/rl037.html の検出されたエンコーディング: CP932\n",
      "Shugiin_data_rl037.csv にデータが保存されました。\n"
     ]
    },
    {
     "name": "stderr",
     "output_type": "stream",
     "text": [
      "C:\\Users\\yomi\\anaconda3\\Lib\\site-packages\\urllib3\\connectionpool.py:1056: InsecureRequestWarning: Unverified HTTPS request is being made to host 'kokkai.sugawarataku.net'. Adding certificate verification is strongly advised. See: https://urllib3.readthedocs.io/en/1.26.x/advanced-usage.html#ssl-warnings\n",
      "  warnings.warn(\n"
     ]
    }
   ],
   "source": [
    "import requests\n",
    "from bs4 import BeautifulSoup\n",
    "import csv\n",
    "import time\n",
    "import chardet\n",
    "\n",
    "# ループの範囲設定\n",
    "start = 23  # 開始選挙回\n",
    "end = 49    # 終了選挙回\n",
    "\n",
    "# 全データを格納するリスト\n",
    "all_data = []\n",
    "\n",
    "# ベースURL\n",
    "base_url = \"https://kokkai.sugawarataku.net/giin/\"\n",
    "\n",
    "# URLをループで処理\n",
    "for i in range(start, end + 1):\n",
    "    # URLの作成 (rl023, rl024, ..., rl049 の形式)\n",
    "    url_suffix = f\"rl{i:03d}.html\"\n",
    "    url = base_url + url_suffix\n",
    "    \n",
    "    # リクエストを送信\n",
    "    response = requests.get(url, verify=False)\n",
    "\n",
    "    # chardetでエンコーディングを検出\n",
    "    encoding = chardet.detect(response.content)['encoding']\n",
    "    print(f\"{url} の検出されたエンコーディング: {encoding}\")\n",
    "\n",
    "    # 検出されたエンコーディングでデコード\n",
    "    response.encoding = encoding\n",
    "\n",
    "    # BeautifulSoupでHTMLを解析\n",
    "    soup = BeautifulSoup(response.text, 'html.parser')\n",
    "\n",
    "    # 議員データを格納するリスト\n",
    "    giin_data = []\n",
    "\n",
    "    # URLからrl番号を取得し、これをyearとして使用\n",
    "    year = url_suffix.replace('.html', '')\n",
    "\n",
    "    # 議員データを探す\n",
    "    giin_list = soup.find_all(\"div\", class_=\"zt11\")\n",
    "\n",
    "    for giin in giin_list:\n",
    "        kana = giin.find(\"span\", class_=\"zt4\").get_text().strip()\n",
    "        kanji = giin.find(\"span\", class_=\"zt5\").get_text().strip()\n",
    "        party = giin.find(\"div\", class_=\"cc2\").get_text().strip()\n",
    "        election_area = giin.find(\"div\", class_=\"cc4\").get_text().strip()\n",
    "        \n",
    "        # giin_idは<a>タグのhref属性から取得し、.htmlを削除\n",
    "        giin_id_tag = giin.find(\"span\", class_=\"zt5\").find(\"a\")\n",
    "        giin_id = giin_id_tag['href'].replace('.html', '') if giin_id_tag else 'N/A'\n",
    "        \n",
    "        # 1人分のデータをリストに追加\n",
    "        giin_data.append([year, giin_id, kanji, kana, party, election_area])\n",
    "        all_data.append([year, giin_id, kanji, kana, party, election_area])\n",
    "\n",
    "    # 各選挙回ごとにCSVファイルに保存（utf-8 BOMエンコーディング）\n",
    "    csv_filename = f'Shugiin_data_{year}.csv'\n",
    "    with open(csv_filename, 'w', newline='', encoding='utf-8-sig') as csvfile:\n",
    "        writer = csv.writer(csvfile)\n",
    "        writer.writerow(['year', 'giin_id', 'kanji', 'kana', 'party', 'election_area'])\n",
    "        writer.writerows(giin_data)\n",
    "    \n",
    "    print(f\"{csv_filename} にデータが保存されました。\")\n",
    "\n",
    "    # 3秒間のスリープ\n",
    "    time.sleep(3)\n",
    "\n",
    "# 全データを1つのファイルに保存（utf-8 BOMエンコーディング）\n",
    "all_csv_filename = 'Shugiin_data_ALL.csv'\n",
    "with open(all_csv_filename, 'w', newline='', encoding='utf-8-sig') as all_csvfile:\n",
    "    writer = csv.writer(all_csvfile)\n",
    "    writer.writerow(['year', 'giin_id', 'kanji', 'kana', 'party', 'election_area'])\n",
    "    writer.writerows(all_data)\n",
    "\n",
    "print(f\"全データが {all_csv_filename} に保存されました。\")\n"
   ]
  },
  {
   "cell_type": "code",
   "execution_count": null,
   "id": "c9225c75",
   "metadata": {},
   "outputs": [],
   "source": []
  }
 ],
 "metadata": {
  "kernelspec": {
   "display_name": "Python 3 (ipykernel)",
   "language": "python",
   "name": "python3"
  },
  "language_info": {
   "codemirror_mode": {
    "name": "ipython",
    "version": 3
   },
   "file_extension": ".py",
   "mimetype": "text/x-python",
   "name": "python",
   "nbconvert_exporter": "python",
   "pygments_lexer": "ipython3",
   "version": "3.11.5"
  }
 },
 "nbformat": 4,
 "nbformat_minor": 5
}
